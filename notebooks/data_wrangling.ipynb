{
 "cells": [
  {
   "cell_type": "code",
   "execution_count": 14,
   "metadata": {},
   "outputs": [],
   "source": [
    "import pandas as pd\n",
    "from nltk.corpus import stopwords\n",
    "from ast import literal_eval\n",
    "from nltk.stem import PorterStemmer"
   ]
  },
  {
   "cell_type": "markdown",
   "metadata": {},
   "source": [
    "TODO\n",
    "\n",
    "- [ ] REMOVE ONE WORD SENTENCES \n",
    "- [ ] REMOVE REPETITIVE SENTENCES LIKE 'SCROLL DOWN FOR VIDEO'\n",
    "- [ ] CHECK FOR THE MOST COMMON REPETITIVE SEQUENCES AND REMOVE THEM IF NECESSARY "
   ]
  },
  {
   "cell_type": "code",
   "execution_count": 17,
   "metadata": {},
   "outputs": [],
   "source": [
    "# Load data \n",
    "val = pd.read_csv('../data/processed/no_stop_words/val_no_stop_words.csv.gz', compression ='gzip')"
   ]
  },
  {
   "cell_type": "code",
   "execution_count": 18,
   "metadata": {},
   "outputs": [
    {
     "data": {
      "text/html": [
       "<div>\n",
       "<style scoped>\n",
       "    .dataframe tbody tr th:only-of-type {\n",
       "        vertical-align: middle;\n",
       "    }\n",
       "\n",
       "    .dataframe tbody tr th {\n",
       "        vertical-align: top;\n",
       "    }\n",
       "\n",
       "    .dataframe thead th {\n",
       "        text-align: right;\n",
       "    }\n",
       "</style>\n",
       "<table border=\"1\" class=\"dataframe\">\n",
       "  <thead>\n",
       "    <tr style=\"text-align: right;\">\n",
       "      <th></th>\n",
       "      <th>text_id</th>\n",
       "      <th>sentence</th>\n",
       "      <th>is_summary_sentence</th>\n",
       "      <th>tokens</th>\n",
       "      <th>no_stop_words_tokens</th>\n",
       "    </tr>\n",
       "  </thead>\n",
       "  <tbody>\n",
       "    <tr>\n",
       "      <th>0</th>\n",
       "      <td>0</td>\n",
       "      <td>Sally Forrest, an actress-dancer who graced th...</td>\n",
       "      <td>0</td>\n",
       "      <td>['Sally', 'Forrest', ',', 'an', 'actress-dance...</td>\n",
       "      <td>['Sally', 'Forrest', ',', 'actress-dancer', 'g...</td>\n",
       "    </tr>\n",
       "    <tr>\n",
       "      <th>1</th>\n",
       "      <td>0</td>\n",
       "      <td>A San Diego native, Forrest became a protege o...</td>\n",
       "      <td>1</td>\n",
       "      <td>['A', 'San', 'Diego', 'native', ',', 'Forrest'...</td>\n",
       "      <td>['A', 'San', 'Diego', 'native', ',', 'Forrest'...</td>\n",
       "    </tr>\n",
       "    <tr>\n",
       "      <th>2</th>\n",
       "      <td>0</td>\n",
       "      <td>Forrest, whose birth name was Katherine Feeney...</td>\n",
       "      <td>1</td>\n",
       "      <td>['Forrest', ',', 'whose', 'birth', 'name', 'wa...</td>\n",
       "      <td>['Forrest', ',', 'whose', 'birth', 'name', 'Ka...</td>\n",
       "    </tr>\n",
       "    <tr>\n",
       "      <th>3</th>\n",
       "      <td>0</td>\n",
       "      <td>Career: A San Diego native, Forrest became a p...</td>\n",
       "      <td>0</td>\n",
       "      <td>['Career', ':', 'A', 'San', 'Diego', 'native',...</td>\n",
       "      <td>['Career', ':', 'A', 'San', 'Diego', 'native',...</td>\n",
       "    </tr>\n",
       "    <tr>\n",
       "      <th>4</th>\n",
       "      <td>0</td>\n",
       "      <td>She is survived by her niece, Sharon Durham, a...</td>\n",
       "      <td>0</td>\n",
       "      <td>['She', 'is', 'survived', 'by', 'her', 'niece'...</td>\n",
       "      <td>['She', 'survived', 'niece', ',', 'Sharon', 'D...</td>\n",
       "    </tr>\n",
       "  </tbody>\n",
       "</table>\n",
       "</div>"
      ],
      "text/plain": [
       "   text_id                                           sentence  \\\n",
       "0        0  Sally Forrest, an actress-dancer who graced th...   \n",
       "1        0  A San Diego native, Forrest became a protege o...   \n",
       "2        0  Forrest, whose birth name was Katherine Feeney...   \n",
       "3        0  Career: A San Diego native, Forrest became a p...   \n",
       "4        0  She is survived by her niece, Sharon Durham, a...   \n",
       "\n",
       "   is_summary_sentence                                             tokens  \\\n",
       "0                    0  ['Sally', 'Forrest', ',', 'an', 'actress-dance...   \n",
       "1                    1  ['A', 'San', 'Diego', 'native', ',', 'Forrest'...   \n",
       "2                    1  ['Forrest', ',', 'whose', 'birth', 'name', 'wa...   \n",
       "3                    0  ['Career', ':', 'A', 'San', 'Diego', 'native',...   \n",
       "4                    0  ['She', 'is', 'survived', 'by', 'her', 'niece'...   \n",
       "\n",
       "                                no_stop_words_tokens  \n",
       "0  ['Sally', 'Forrest', ',', 'actress-dancer', 'g...  \n",
       "1  ['A', 'San', 'Diego', 'native', ',', 'Forrest'...  \n",
       "2  ['Forrest', ',', 'whose', 'birth', 'name', 'Ka...  \n",
       "3  ['Career', ':', 'A', 'San', 'Diego', 'native',...  \n",
       "4  ['She', 'survived', 'niece', ',', 'Sharon', 'D...  "
      ]
     },
     "execution_count": 18,
     "metadata": {},
     "output_type": "execute_result"
    }
   ],
   "source": [
    "val.head()"
   ]
  },
  {
   "cell_type": "code",
   "execution_count": 19,
   "metadata": {},
   "outputs": [
    {
     "data": {
      "text/plain": [
       "'[\\'Sally\\', \\'Forrest\\', \\',\\', \\'an\\', \\'actress-dancer\\', \\'who\\', \\'graced\\', \\'the\\', \\'silver\\', \\'screen\\', \\'throughout\\', \\'the\\', \"\\'40s\", \\'and\\', \"\\'50s\", \\'in\\', \\'MGM\\', \\'musicals\\', \\'and\\', \\'films\\', \\'such\\', \\'as\\', \\'the\\', \\'1956\\', \\'noir\\', \\'While\\', \\'the\\', \\'City\\', \\'Sleeps\\', \\'died\\', \\'on\\', \\'March\\', \\'15\\', \\'at\\', \\'her\\', \\'home\\', \\'in\\', \\'Beverly\\', \\'Hills\\', \\',\\', \\'California\\']'"
      ]
     },
     "execution_count": 19,
     "metadata": {},
     "output_type": "execute_result"
    }
   ],
   "source": [
    "val['tokens'].iloc[0]"
   ]
  },
  {
   "cell_type": "code",
   "execution_count": 20,
   "metadata": {},
   "outputs": [
    {
     "data": {
      "text/plain": [
       "'[\\'Sally\\', \\'Forrest\\', \\',\\', \\'actress-dancer\\', \\'graced\\', \\'silver\\', \\'screen\\', \\'throughout\\', \"\\'40s\", \"\\'50s\", \\'MGM\\', \\'musicals\\', \\'films\\', \\'1956\\', \\'noir\\', \\'While\\', \\'City\\', \\'Sleeps\\', \\'died\\', \\'March\\', \\'15\\', \\'home\\', \\'Beverly\\', \\'Hills\\', \\',\\', \\'California\\']'"
      ]
     },
     "execution_count": 20,
     "metadata": {},
     "output_type": "execute_result"
    }
   ],
   "source": [
    "val['no_stop_words_tokens'].iloc[0]"
   ]
  },
  {
   "cell_type": "code",
   "execution_count": 21,
   "metadata": {},
   "outputs": [
    {
     "data": {
      "text/plain": [
       "count                                 520970\n",
       "unique                                477682\n",
       "top       ['Scroll', 'down', 'for', 'video']\n",
       "freq                                    3005\n",
       "Name: tokens, dtype: object"
      ]
     },
     "execution_count": 21,
     "metadata": {},
     "output_type": "execute_result"
    }
   ],
   "source": [
    "val['tokens'].describe()"
   ]
  },
  {
   "cell_type": "code",
   "execution_count": 13,
   "metadata": {},
   "outputs": [
    {
     "data": {
      "text/plain": [
       "text_id                 2723\n",
       "sentence                2723\n",
       "is_summary_sentence     2723\n",
       "tokens                  2723\n",
       "no_stop_words_tokens    2723\n",
       "dtype: int64"
      ]
     },
     "execution_count": 13,
     "metadata": {},
     "output_type": "execute_result"
    }
   ],
   "source": [
    "test[test['tokens'] == \"['Scroll', 'down', 'for', 'video']\"].count()"
   ]
  },
  {
   "cell_type": "code",
   "execution_count": 23,
   "metadata": {},
   "outputs": [],
   "source": [
    "def stemmer(stemmed_sent):\n",
    "    \"\"\"\n",
    "    Removes stop words from a tokenized sentence\n",
    "    \"\"\"\n",
    "    porter  = PorterStemmer()\n",
    "    stemmed_sentence = []\n",
    "    for word in literal_eval(stemmed_sent):\n",
    "        stemmed_word = porter.stem(word)\n",
    "        stemmed_sentence.append(stemmed_word)\n",
    "    return stemmed_sentence"
   ]
  },
  {
   "cell_type": "code",
   "execution_count": 24,
   "metadata": {},
   "outputs": [],
   "source": [
    "# Remove null entries \n",
    "val['no_stop_words_tokens'].dropna(inplace=True)\n",
    "val['stemmed_sent'] = val['no_stop_words_tokens'].apply(lambda x: stemmer(x))"
   ]
  },
  {
   "cell_type": "code",
   "execution_count": 25,
   "metadata": {},
   "outputs": [
    {
     "data": {
      "text/plain": [
       "0    [salli, forrest, ,, actress-danc, grace, silve...\n",
       "1    [A, san, diego, nativ, ,, forrest, becam, prot...\n",
       "2    [forrest, ,, whose, birth, name, katherin, fee...\n",
       "3    [career, :, A, san, diego, nativ, ,, forrest, ...\n",
       "4    [she, surviv, niec, ,, sharon, durham, ,, neph...\n",
       "Name: stemmed_sent, dtype: object"
      ]
     },
     "execution_count": 25,
     "metadata": {},
     "output_type": "execute_result"
    }
   ],
   "source": [
    "val['stemmed_sent'].head()"
   ]
  },
  {
   "cell_type": "code",
   "execution_count": 26,
   "metadata": {},
   "outputs": [
    {
     "data": {
      "text/plain": [
       "527371                              [darwin, :, $, 634,316]\n",
       "527372                              [hobart, :, $, 335,880]\n",
       "527373    ['not, sake, futur, gener, present, one, well,...\n",
       "527374    [one, element, process, found, difficult, prof...\n",
       "527375    [sydney, lord, mayor, said, mani, young, peopl...\n",
       "Name: stemmed_sent, dtype: object"
      ]
     },
     "execution_count": 26,
     "metadata": {},
     "output_type": "execute_result"
    }
   ],
   "source": [
    "val['stemmed_sent'].tail()"
   ]
  },
  {
   "cell_type": "code",
   "execution_count": null,
   "metadata": {},
   "outputs": [],
   "source": []
  }
 ],
 "metadata": {
  "kernelspec": {
   "display_name": "Python 3.7.0 64-bit ('3.7.0': pyenv)",
   "language": "python",
   "name": "python37064bit370pyenv81503a812bd341219633615bdad393a2"
  },
  "language_info": {
   "codemirror_mode": {
    "name": "ipython",
    "version": 3
   },
   "file_extension": ".py",
   "mimetype": "text/x-python",
   "name": "python",
   "nbconvert_exporter": "python",
   "pygments_lexer": "ipython3",
   "version": "3.7.0"
  }
 },
 "nbformat": 4,
 "nbformat_minor": 2
}
