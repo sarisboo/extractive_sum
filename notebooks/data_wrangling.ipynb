{
 "cells": [
  {
   "cell_type": "code",
   "execution_count": 1,
   "metadata": {},
   "outputs": [],
   "source": [
    "import pandas as pd\n",
    "import numpy as np\n",
    "from ast import literal_eval"
   ]
  },
  {
   "cell_type": "code",
   "execution_count": 2,
   "metadata": {},
   "outputs": [],
   "source": [
    "# Load data (#Only read a percentage of the data)\n",
    "train = pd.read_csv('../data/interim/cleaned/train_cleaned_step_1.csv.gz', compression ='gzip')"
   ]
  },
  {
   "cell_type": "code",
   "execution_count": 3,
   "metadata": {},
   "outputs": [],
   "source": [
    "val = pd.read_csv('../data/interim/cleaned/val_cleaned_step_1.csv.gz', compression ='gzip')"
   ]
  },
  {
   "cell_type": "code",
   "execution_count": 4,
   "metadata": {},
   "outputs": [],
   "source": [
    "test = pd.read_csv('../data/interim/cleaned/test_cleaned_step_1.csv.gz', compression ='gzip')"
   ]
  },
  {
   "cell_type": "code",
   "execution_count": 8,
   "metadata": {},
   "outputs": [
    {
     "data": {
      "text/plain": [
       "text_id                 11649923\n",
       "sentence                11649923\n",
       "is_summary_sentence     11649923\n",
       "tokens                  11649923\n",
       "no_stop_words_tokens    11649923\n",
       "stemmed_tokens          11649923\n",
       "dtype: int64"
      ]
     },
     "execution_count": 8,
     "metadata": {},
     "output_type": "execute_result"
    }
   ],
   "source": [
    "train.count()"
   ]
  },
  {
   "cell_type": "code",
   "execution_count": 9,
   "metadata": {},
   "outputs": [
    {
     "data": {
      "text/plain": [
       "text_id                 1053748\n",
       "sentence                1053748\n",
       "is_summary_sentence     1053748\n",
       "tokens                  1053748\n",
       "no_stop_words_tokens    1053748\n",
       "stemmed_tokens          1053748\n",
       "dtype: int64"
      ]
     },
     "execution_count": 9,
     "metadata": {},
     "output_type": "execute_result"
    }
   ],
   "source": [
    "train[train['is_summary_sentence'] == 1].count()"
   ]
  },
  {
   "cell_type": "code",
   "execution_count": 10,
   "metadata": {},
   "outputs": [
    {
     "data": {
      "text/plain": [
       "text_id                 10596175\n",
       "sentence                10596175\n",
       "is_summary_sentence     10596175\n",
       "tokens                  10596175\n",
       "no_stop_words_tokens    10596175\n",
       "stemmed_tokens          10596175\n",
       "dtype: int64"
      ]
     },
     "execution_count": 10,
     "metadata": {},
     "output_type": "execute_result"
    }
   ],
   "source": [
    "train[train['is_summary_sentence'] == 0].count()"
   ]
  },
  {
   "cell_type": "code",
   "execution_count": 11,
   "metadata": {},
   "outputs": [],
   "source": [
    "# Taking only half the training instances\n",
    "train_half = pd.read_csv('../data/interim/cleaned/train_cleaned_step_1.csv.gz', compression ='gzip', nrows = 6000000)"
   ]
  },
  {
   "cell_type": "code",
   "execution_count": 14,
   "metadata": {},
   "outputs": [
    {
     "data": {
      "text/plain": [
       "text_id                 543487\n",
       "sentence                543487\n",
       "is_summary_sentence     543487\n",
       "tokens                  543487\n",
       "no_stop_words_tokens    543487\n",
       "stemmed_tokens          543487\n",
       "dtype: int64"
      ]
     },
     "execution_count": 14,
     "metadata": {},
     "output_type": "execute_result"
    }
   ],
   "source": [
    "train_half[train_half['is_summary_sentence'] == 1].count()"
   ]
  },
  {
   "cell_type": "code",
   "execution_count": 15,
   "metadata": {},
   "outputs": [
    {
     "data": {
      "text/plain": [
       "text_id                 5456513\n",
       "sentence                5456513\n",
       "is_summary_sentence     5456513\n",
       "tokens                  5456513\n",
       "no_stop_words_tokens    5456513\n",
       "stemmed_tokens          5456513\n",
       "dtype: int64"
      ]
     },
     "execution_count": 15,
     "metadata": {},
     "output_type": "execute_result"
    }
   ],
   "source": [
    "train_half[train_half['is_summary_sentence'] == 0].count()"
   ]
  },
  {
   "cell_type": "code",
   "execution_count": 25,
   "metadata": {},
   "outputs": [
    {
     "data": {
      "text/plain": [
       "\"['The', 'bishop', 'of', 'the', 'Fargo', 'Catholic', 'Diocese', 'in', 'North', 'Dakota', 'has', 'exposed', 'potentially', 'hundreds', 'of', 'church', 'members', 'in', 'Fargo', ',', 'Grand', 'Forks', 'and', 'Jamestown', 'to', 'the', 'hepatitis', 'A', 'virus', 'in', 'late', 'September', 'and', 'early', 'October']\""
      ]
     },
     "execution_count": 25,
     "metadata": {},
     "output_type": "execute_result"
    }
   ],
   "source": [
    "train_half['tokens'].iloc[0]"
   ]
  },
  {
   "cell_type": "code",
   "execution_count": 27,
   "metadata": {},
   "outputs": [
    {
     "data": {
      "text/plain": [
       "\"State Immunization Program Manager Molly Howell says the risk is low, but officials feel it's important to alert people to the possible exposure\""
      ]
     },
     "execution_count": 27,
     "metadata": {},
     "output_type": "execute_result"
    }
   ],
   "source": [
    "train_half['sentence'].iloc[10]"
   ]
  },
  {
   "cell_type": "code",
   "execution_count": 28,
   "metadata": {},
   "outputs": [],
   "source": [
    "train_quart = pd.read_csv('../data/interim/cleaned/train_cleaned_step_1.csv.gz', compression ='gzip', nrows = 3000000)"
   ]
  },
  {
   "cell_type": "code",
   "execution_count": null,
   "metadata": {},
   "outputs": [],
   "source": []
  }
 ],
 "metadata": {
  "kernelspec": {
   "display_name": "Python 3.7.0 64-bit ('3.7.0': pyenv)",
   "language": "python",
   "name": "python37064bit370pyenv81503a812bd341219633615bdad393a2"
  },
  "language_info": {
   "codemirror_mode": {
    "name": "ipython",
    "version": 3
   },
   "file_extension": ".py",
   "mimetype": "text/x-python",
   "name": "python",
   "nbconvert_exporter": "python",
   "pygments_lexer": "ipython3",
   "version": "3.7.0"
  }
 },
 "nbformat": 4,
 "nbformat_minor": 2
}
